{
 "cells": [
  {
   "cell_type": "code",
   "execution_count": 1,
   "id": "c48a414a",
   "metadata": {},
   "outputs": [],
   "source": [
    "import numpy as np\n",
    "import matplotlib.pyplot as plt\n",
    "import pandas as pd"
   ]
  },
  {
   "cell_type": "code",
   "execution_count": 16,
   "id": "7c832660",
   "metadata": {},
   "outputs": [
    {
     "name": "stdout",
     "output_type": "stream",
     "text": [
      "     Outlook  Temperature  Humidity   Wind Play\n",
      "0      sunny           85        85  False   no\n",
      "1      sunny           80        90   True   no\n",
      "2   overcast           83        78  False  yes\n",
      "3       rain           70        96  False  yes\n",
      "4       rain           68        80  False  yes\n",
      "5       rain           65        70   True   no\n",
      "6   overcast           64        65   True  yes\n",
      "7      sunny           72        95  False   no\n",
      "8      sunny           69        70  False  yes\n",
      "9       rain           75        80  False  yes\n",
      "10     sunny           75        70   True  yes\n",
      "11  overcast           72        90   True  yes\n",
      "12  overcast           81        75  False  yes\n",
      "13      rain           71        80   True   no\n"
     ]
    }
   ],
   "source": [
    "data=pd.read_csv('data.csv')\n",
    "print(data)\n",
    "\n",
    "X = data.iloc[:, :-1].values\n",
    "y = data.iloc[:, -1].values"
   ]
  },
  {
   "cell_type": "code",
   "execution_count": 17,
   "id": "9b33a49d",
   "metadata": {
    "scrolled": true
   },
   "outputs": [],
   "source": [
    "from sklearn.compose import ColumnTransformer\n",
    "from sklearn.preprocessing import OneHotEncoder\n",
    "ct = ColumnTransformer(transformers=[('encoder', OneHotEncoder(), [0])], remainder='passthrough')\n",
    "X = np.array(ct.fit_transform(X))"
   ]
  },
  {
   "cell_type": "code",
   "execution_count": 18,
   "id": "f452f61e",
   "metadata": {},
   "outputs": [],
   "source": [
    "from sklearn.preprocessing import LabelEncoder\n",
    "le = LabelEncoder()\n",
    "y = le.fit_transform(y)"
   ]
  },
  {
   "cell_type": "code",
   "execution_count": 19,
   "id": "d5fe4491",
   "metadata": {},
   "outputs": [
    {
     "name": "stdout",
     "output_type": "stream",
     "text": [
      "[0 0 1 1 1 0 1 0 1 1 1 1 1 0]\n"
     ]
    }
   ],
   "source": [
    "print(y)"
   ]
  },
  {
   "cell_type": "code",
   "execution_count": 20,
   "id": "03fc5de1",
   "metadata": {},
   "outputs": [],
   "source": [
    "from sklearn.model_selection import train_test_split\n",
    "X_train, X_test, y_train, y_test = train_test_split(X, y, test_size = 0.2, random_state = 1)"
   ]
  },
  {
   "cell_type": "code",
   "execution_count": 21,
   "id": "743209e2",
   "metadata": {},
   "outputs": [
    {
     "name": "stdout",
     "output_type": "stream",
     "text": [
      "[[1.0 0.0 0.0 83 78 False]\n",
      " [0.0 0.0 1.0 75 70 True]\n",
      " [0.0 1.0 0.0 68 80 False]\n",
      " [0.0 0.0 1.0 80 90 True]\n",
      " [1.0 0.0 0.0 81 75 False]\n",
      " [0.0 0.0 1.0 85 85 False]\n",
      " [0.0 1.0 0.0 71 80 True]\n",
      " [0.0 1.0 0.0 75 80 False]\n",
      " [0.0 0.0 1.0 69 70 False]\n",
      " [1.0 0.0 0.0 72 90 True]\n",
      " [0.0 1.0 0.0 65 70 True]]\n"
     ]
    }
   ],
   "source": [
    "print(X_train)"
   ]
  },
  {
   "cell_type": "code",
   "execution_count": 22,
   "id": "cb9c5d50",
   "metadata": {},
   "outputs": [
    {
     "name": "stdout",
     "output_type": "stream",
     "text": [
      "[[0.0 1.0 0.0 70 96 False]\n",
      " [0.0 0.0 1.0 72 95 False]\n",
      " [1.0 0.0 0.0 64 65 True]]\n"
     ]
    }
   ],
   "source": [
    "print(X_test)"
   ]
  },
  {
   "cell_type": "code",
   "execution_count": 23,
   "id": "fa54099d",
   "metadata": {},
   "outputs": [
    {
     "name": "stdout",
     "output_type": "stream",
     "text": [
      "[1 1 1 0 1 0 0 1 1 1 0]\n"
     ]
    }
   ],
   "source": [
    "print(y_train)"
   ]
  },
  {
   "cell_type": "code",
   "execution_count": 24,
   "id": "647b4c61",
   "metadata": {},
   "outputs": [
    {
     "name": "stdout",
     "output_type": "stream",
     "text": [
      "[1 0 1]\n"
     ]
    }
   ],
   "source": [
    "print(y_test)"
   ]
  },
  {
   "cell_type": "code",
   "execution_count": 26,
   "id": "ce78d787",
   "metadata": {},
   "outputs": [],
   "source": [
    "from sklearn.preprocessing import StandardScaler\n",
    "sc = StandardScaler()\n",
    "X_train[:, 3:] = sc.fit_transform(X_train[:, 3:])\n",
    "X_test[:, 3:] = sc.transform(X_test[:, 3:])"
   ]
  },
  {
   "cell_type": "code",
   "execution_count": 27,
   "id": "17926371",
   "metadata": {},
   "outputs": [
    {
     "name": "stdout",
     "output_type": "stream",
     "text": [
      "[[1.0 0.0 0.0 1.2867507236248845 -0.12964074471043294 -0.912870929175277]\n",
      " [0.0 0.0 1.0 0.014457873299156014 -1.2704792981622424 1.0954451150103324]\n",
      " [0.0 1.0 0.0 -1.0987983707358566 0.15556889365251944 -0.912870929175277]\n",
      " [0.0 0.0 1.0 0.8096409047527363 1.5816170854672813 1.0954451150103324]\n",
      " [1.0 0.0 0.0 0.9686775110434523 -0.5574552022548616 -0.912870929175277]\n",
      " [0.0 0.0 1.0 1.6048239362063166 0.8685929895599003 -0.912870929175277]\n",
      " [0.0 1.0 0.0 -0.6216885518637083 0.15556889365251944 1.0954451150103324]\n",
      " [0.0 1.0 0.0 0.014457873299156014 0.15556889365251944 -0.912870929175277]\n",
      " [0.0 0.0 1.0 -0.9397617644451405 -1.2704792981622424 -0.912870929175277]\n",
      " [1.0 0.0 0.0 -0.46265194557299216 1.5816170854672813 1.0954451150103324]\n",
      " [0.0 1.0 0.0 -1.5759081896080047 -1.2704792981622424 1.0954451150103324]]\n"
     ]
    }
   ],
   "source": [
    "print(X_train)"
   ]
  },
  {
   "cell_type": "code",
   "execution_count": 28,
   "id": "f097a4e1",
   "metadata": {},
   "outputs": [
    {
     "name": "stdout",
     "output_type": "stream",
     "text": [
      "[[0.0 1.0 0.0 70.0 96.00000000000001 8.07434927000114e-17]\n",
      " [0.0 0.0 1.0 72.0 95.00000000000001 8.07434927000114e-17]\n",
      " [1.0 0.0 0.0 64.0 65.00000000000001 1.0000000000000002]]\n"
     ]
    }
   ],
   "source": [
    "print(X_test)"
   ]
  },
  {
   "cell_type": "code",
   "execution_count": null,
   "id": "56768582",
   "metadata": {},
   "outputs": [],
   "source": []
  }
 ],
 "metadata": {
  "kernelspec": {
   "display_name": "Python 3 (ipykernel)",
   "language": "python",
   "name": "python3"
  },
  "language_info": {
   "codemirror_mode": {
    "name": "ipython",
    "version": 3
   },
   "file_extension": ".py",
   "mimetype": "text/x-python",
   "name": "python",
   "nbconvert_exporter": "python",
   "pygments_lexer": "ipython3",
   "version": "3.9.7"
  }
 },
 "nbformat": 4,
 "nbformat_minor": 5
}
